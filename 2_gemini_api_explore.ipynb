{
 "cells": [
  {
   "cell_type": "code",
   "execution_count": 5,
   "id": "1bf5d353",
   "metadata": {},
   "outputs": [
    {
     "name": "stdout",
     "output_type": "stream",
     "text": [
      "Response dari Gemini 2.0 Flash API:\n",
      "Tentu, berikut adalah contoh abstrak singkat yang membahas pengaruh teknologi kecerdasan buatan dalam meningkatkan kualitas layanan kesehatan di era digital:\n",
      "\n",
      "**Abstrak**\n",
      "\n",
      "Penelitian ini bertujuan untuk menganalisis pengaruh penerapan teknologi kecerdasan buatan (AI) dalam meningkatkan kualitas layanan kesehatan di era digital. Metode penelitian meliputi tinjauan literatur sistematis dan analisis kasus terhadap implementasi AI dalam diagnosis, pengobatan, dan manajemen pasien. Hasil penelitian menunjukkan bahwa AI memiliki potensi signifikan dalam meningkatkan akurasi diagnosis, personalisasi pengobatan, efisiensi operasional, dan aksesibilitas layanan kesehatan. Meskipun demikian, tantangan seperti privasi data, bias algoritmik, dan kebutuhan akan regulasi yang jelas perlu diatasi untuk memastikan implementasi AI yang etis dan efektif dalam sektor kesehatan. Penelitian ini menyimpulkan bahwa integrasi AI yang bijaksana dapat membawa transformasi positif dalam layanan kesehatan, namun implementasinya harus mempertimbangkan aspek etika, keamanan, dan keadilan.\n",
      "\n",
      "Apakah ada aspek tertentu dari topik ini yang ingin Anda tekankan atau ubah dalam abstrak tersebut? Misalnya, apakah Anda ingin lebih fokus pada jenis teknologi AI tertentu, jenis layanan kesehatan tertentu, atau tantangan spesifik yang ingin Anda soroti?\n",
      "\n"
     ]
    }
   ],
   "source": [
    "from google import genai\n",
    "from google.genai import types\n",
    "import os\n",
    "import dotenv\n",
    "\n",
    "dotenv.load_dotenv()\n",
    "\n",
    "# Ganti dengan API key Gemini Anda\n",
    "GEMINI_API_KEY = os.getenv(\"GEMINI_API_KEY\")\n",
    "\n",
    "# Buat client menggunakan API key Anda\n",
    "client = genai.Client(api_key=GEMINI_API_KEY)\n",
    "\n",
    "# Definisikan prompt yang akan diinputkan ke API\n",
    "prompt = (\n",
    "    \"Tuliskan abstrak singkat untuk sebuah research paper yang membahas \"\n",
    "    \"pengaruh teknologi kecerdasan buatan dalam meningkatkan kualitas layanan kesehatan di era digital.\"\n",
    ")\n",
    "\n",
    "# Panggil fungsi generate_content dengan menentukan model dan konfigurasi\n",
    "response = client.models.generate_content(\n",
    "    model=\"gemini-2.0-flash-exp\",  # Pastikan model name sesuai dengan dokumentasi dan akses Anda\n",
    "    contents=prompt,\n",
    "    config=types.GenerateContentConfig(\n",
    "        # Misalnya, jika Anda ingin mengaktifkan tool code_execution (opsional)\n",
    "        tools=[{\"code_execution\": {}}]\n",
    "    )\n",
    ")\n",
    "\n",
    "# Tampilkan hasil\n",
    "print(\"Response dari Gemini 2.0 Flash API:\")\n",
    "print(response.text)"
   ]
  },
  {
   "cell_type": "code",
   "execution_count": null,
   "id": "0d97f7ce",
   "metadata": {},
   "outputs": [],
   "source": []
  }
 ],
 "metadata": {
  "kernelspec": {
   "display_name": "env",
   "language": "python",
   "name": "python3"
  },
  "language_info": {
   "codemirror_mode": {
    "name": "ipython",
    "version": 3
   },
   "file_extension": ".py",
   "mimetype": "text/x-python",
   "name": "python",
   "nbconvert_exporter": "python",
   "pygments_lexer": "ipython3",
   "version": "3.12.7"
  }
 },
 "nbformat": 4,
 "nbformat_minor": 5
}
